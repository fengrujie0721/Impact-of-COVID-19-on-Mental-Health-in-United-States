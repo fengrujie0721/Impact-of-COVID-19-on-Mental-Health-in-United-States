{
 "cells": [
  {
   "cell_type": "code",
   "execution_count": 2,
   "metadata": {},
   "outputs": [
    {
     "data": {
      "text/html": [
       "<div>\n",
       "<style scoped>\n",
       "    .dataframe tbody tr th:only-of-type {\n",
       "        vertical-align: middle;\n",
       "    }\n",
       "\n",
       "    .dataframe tbody tr th {\n",
       "        vertical-align: top;\n",
       "    }\n",
       "\n",
       "    .dataframe thead th {\n",
       "        text-align: right;\n",
       "    }\n",
       "</style>\n",
       "<table border=\"1\" class=\"dataframe\">\n",
       "  <thead>\n",
       "    <tr style=\"text-align: right;\">\n",
       "      <th></th>\n",
       "      <th>Unnamed: 0</th>\n",
       "      <th>date</th>\n",
       "      <th>state</th>\n",
       "      <th>cases</th>\n",
       "      <th>deaths</th>\n",
       "      <th>mental disorder</th>\n",
       "      <th>frequency of mental disorder</th>\n",
       "    </tr>\n",
       "  </thead>\n",
       "  <tbody>\n",
       "    <tr>\n",
       "      <th>0</th>\n",
       "      <td>0</td>\n",
       "      <td>4/23/2020</td>\n",
       "      <td>Alabama</td>\n",
       "      <td>5832</td>\n",
       "      <td>197</td>\n",
       "      <td>Symptoms of Depressive Disorder</td>\n",
       "      <td>18.6</td>\n",
       "    </tr>\n",
       "    <tr>\n",
       "      <th>1</th>\n",
       "      <td>1</td>\n",
       "      <td>4/23/2020</td>\n",
       "      <td>Alabama</td>\n",
       "      <td>5832</td>\n",
       "      <td>197</td>\n",
       "      <td>Symptoms of Anxiety Disorder</td>\n",
       "      <td>25.6</td>\n",
       "    </tr>\n",
       "    <tr>\n",
       "      <th>2</th>\n",
       "      <td>2</td>\n",
       "      <td>4/23/2020</td>\n",
       "      <td>Alabama</td>\n",
       "      <td>5832</td>\n",
       "      <td>197</td>\n",
       "      <td>Symptoms of Anxiety Disorder or Depressive Dis...</td>\n",
       "      <td>30.3</td>\n",
       "    </tr>\n",
       "    <tr>\n",
       "      <th>3</th>\n",
       "      <td>3</td>\n",
       "      <td>4/23/2020</td>\n",
       "      <td>Alaska</td>\n",
       "      <td>335</td>\n",
       "      <td>7</td>\n",
       "      <td>Symptoms of Depressive Disorder</td>\n",
       "      <td>19.2</td>\n",
       "    </tr>\n",
       "    <tr>\n",
       "      <th>4</th>\n",
       "      <td>4</td>\n",
       "      <td>4/23/2020</td>\n",
       "      <td>Alaska</td>\n",
       "      <td>335</td>\n",
       "      <td>7</td>\n",
       "      <td>Symptoms of Anxiety Disorder</td>\n",
       "      <td>27.7</td>\n",
       "    </tr>\n",
       "  </tbody>\n",
       "</table>\n",
       "</div>"
      ],
      "text/plain": [
       "   Unnamed: 0       date    state  cases  deaths  \\\n",
       "0           0  4/23/2020  Alabama   5832     197   \n",
       "1           1  4/23/2020  Alabama   5832     197   \n",
       "2           2  4/23/2020  Alabama   5832     197   \n",
       "3           3  4/23/2020   Alaska    335       7   \n",
       "4           4  4/23/2020   Alaska    335       7   \n",
       "\n",
       "                                     mental disorder  \\\n",
       "0                    Symptoms of Depressive Disorder   \n",
       "1                       Symptoms of Anxiety Disorder   \n",
       "2  Symptoms of Anxiety Disorder or Depressive Dis...   \n",
       "3                    Symptoms of Depressive Disorder   \n",
       "4                       Symptoms of Anxiety Disorder   \n",
       "\n",
       "   frequency of mental disorder  \n",
       "0                          18.6  \n",
       "1                          25.6  \n",
       "2                          30.3  \n",
       "3                          19.2  \n",
       "4                          27.7  "
      ]
     },
     "execution_count": 2,
     "metadata": {},
     "output_type": "execute_result"
    }
   ],
   "source": [
    "import pandas as pd\n",
    "import matplotlib.pyplot as plt\n",
    "from scipy.stats import linregress\n",
    "import scipy.stats as st\n",
    "\n",
    "# File to Load\n",
    "file_to_load = \"merged_data.csv\"\n",
    "\n",
    "# Read CSV File and store into Pandas data frame\n",
    "anx_data = pd.read_csv(file_to_load)\n",
    "anx_data.head()"
   ]
  },
  {
   "cell_type": "code",
   "execution_count": 3,
   "metadata": {},
   "outputs": [],
   "source": [
    "depression_df = anx_data[anx_data['mental disorder']=='Symptoms of Depressive Disorder']\n",
    "anxiety_df = anx_data[anx_data['mental disorder']== 'Symptoms of Anxiety Disorder']\n",
    "either_df = anx_data[anx_data['mental disorder']== 'Symptoms of Anxiety Disorder or Depressive Disorder']\n",
    "\n",
    "depression = depression_df.groupby('state').mean()['frequency of mental disorder']\n",
    "anxiety = anxiety_df.groupby('state').mean()['frequency of mental disorder']\n",
    "either = either_df.groupby('state').mean()['frequency of mental disorder']\n",
    "both = (depression+anxiety)-either"
   ]
  },
  {
   "cell_type": "code",
   "execution_count": 4,
   "metadata": {},
   "outputs": [
    {
     "data": {
      "text/html": [
       "<div>\n",
       "<style scoped>\n",
       "    .dataframe tbody tr th:only-of-type {\n",
       "        vertical-align: middle;\n",
       "    }\n",
       "\n",
       "    .dataframe tbody tr th {\n",
       "        vertical-align: top;\n",
       "    }\n",
       "\n",
       "    .dataframe thead th {\n",
       "        text-align: right;\n",
       "    }\n",
       "</style>\n",
       "<table border=\"1\" class=\"dataframe\">\n",
       "  <thead>\n",
       "    <tr style=\"text-align: right;\">\n",
       "      <th></th>\n",
       "      <th>Cases</th>\n",
       "      <th>Deaths</th>\n",
       "      <th>Anxiety</th>\n",
       "      <th>Depression</th>\n",
       "      <th>Either Disorder</th>\n",
       "      <th>Both Disorders</th>\n",
       "    </tr>\n",
       "    <tr>\n",
       "      <th>state</th>\n",
       "      <th></th>\n",
       "      <th></th>\n",
       "      <th></th>\n",
       "      <th></th>\n",
       "      <th></th>\n",
       "      <th></th>\n",
       "    </tr>\n",
       "  </thead>\n",
       "  <tbody>\n",
       "    <tr>\n",
       "      <th>Alabama</th>\n",
       "      <td>1.739869e+05</td>\n",
       "      <td>3081.555556</td>\n",
       "      <td>32.307407</td>\n",
       "      <td>27.696296</td>\n",
       "      <td>37.485185</td>\n",
       "      <td>22.518519</td>\n",
       "    </tr>\n",
       "    <tr>\n",
       "      <th>Alaska</th>\n",
       "      <td>1.789378e+04</td>\n",
       "      <td>86.259259</td>\n",
       "      <td>31.914815</td>\n",
       "      <td>25.685185</td>\n",
       "      <td>37.314815</td>\n",
       "      <td>20.285185</td>\n",
       "    </tr>\n",
       "    <tr>\n",
       "      <th>Arizona</th>\n",
       "      <td>2.708545e+05</td>\n",
       "      <td>5512.000000</td>\n",
       "      <td>33.581481</td>\n",
       "      <td>27.933333</td>\n",
       "      <td>38.966667</td>\n",
       "      <td>22.548148</td>\n",
       "    </tr>\n",
       "    <tr>\n",
       "      <th>Arkansas</th>\n",
       "      <td>1.061795e+05</td>\n",
       "      <td>1719.148148</td>\n",
       "      <td>34.448148</td>\n",
       "      <td>28.896296</td>\n",
       "      <td>39.629630</td>\n",
       "      <td>23.714815</td>\n",
       "    </tr>\n",
       "    <tr>\n",
       "      <th>California</th>\n",
       "      <td>1.112002e+06</td>\n",
       "      <td>17291.148148</td>\n",
       "      <td>35.185185</td>\n",
       "      <td>28.518519</td>\n",
       "      <td>40.777778</td>\n",
       "      <td>22.925926</td>\n",
       "    </tr>\n",
       "  </tbody>\n",
       "</table>\n",
       "</div>"
      ],
      "text/plain": [
       "                   Cases        Deaths    Anxiety  Depression  \\\n",
       "state                                                           \n",
       "Alabama     1.739869e+05   3081.555556  32.307407   27.696296   \n",
       "Alaska      1.789378e+04     86.259259  31.914815   25.685185   \n",
       "Arizona     2.708545e+05   5512.000000  33.581481   27.933333   \n",
       "Arkansas    1.061795e+05   1719.148148  34.448148   28.896296   \n",
       "California  1.112002e+06  17291.148148  35.185185   28.518519   \n",
       "\n",
       "            Either Disorder  Both Disorders  \n",
       "state                                        \n",
       "Alabama           37.485185       22.518519  \n",
       "Alaska            37.314815       20.285185  \n",
       "Arizona           38.966667       22.548148  \n",
       "Arkansas          39.629630       23.714815  \n",
       "California        40.777778       22.925926  "
      ]
     },
     "execution_count": 4,
     "metadata": {},
     "output_type": "execute_result"
    }
   ],
   "source": [
    "mean_cases = anx_data.groupby('state').mean()[\"cases\"]\n",
    "mean_deaths = anx_data.groupby('state').mean()[\"deaths\"]\n",
    "mean_mental_disorder=anx_data.groupby('state').mean()[\"frequency of mental disorder\"]\n",
    "mean_mental_disorder\n",
    "\n",
    "summary_stats_df = pd.DataFrame({\"Cases\": mean_cases, \"Deaths\":mean_deaths, \"Anxiety\":anxiety, \"Depression\":depression,\n",
    "                                \"Either Disorder\":either, \"Both Disorders\":both})\n",
    "summary_stats_df.head()"
   ]
  },
  {
   "cell_type": "code",
   "execution_count": 5,
   "metadata": {},
   "outputs": [
    {
     "name": "stdout",
     "output_type": "stream",
     "text": [
      "The total number of cases is 9762136.0.\n",
      "The total number of deaths is 222811.78.\n",
      "The average rate of anxiety is 32.08.\n",
      "The averange rate of depression is 25.63.\n",
      "The average rate of anxiety or depression symptoms 36.98.\n",
      "The average rate for both anxiety and depression symptoms is 20.72.\n"
     ]
    }
   ],
   "source": [
    "print('The total number of cases is '+str(round(summary_stats_df['Cases'].sum(),0))+'.')\n",
    "print('The total number of deaths is '+str(round(summary_stats_df['Deaths'].sum(),2))+'.')\n",
    "print('The average rate of anxiety is '+str(round(summary_stats_df['Anxiety'].mean(),2))+'.')\n",
    "print('The averange rate of depression is '+str(round(summary_stats_df['Depression'].mean(),2))+'.')\n",
    "print('The average rate of anxiety or depression symptoms '+str(round(summary_stats_df['Either Disorder'].mean(),2))+'.')\n",
    "print('The average rate for both anxiety and depression symptoms is '+str(round(summary_stats_df['Both Disorders'].mean(),2))+'.')\n"
   ]
  },
  {
   "cell_type": "code",
   "execution_count": 6,
   "metadata": {
    "scrolled": true
   },
   "outputs": [
    {
     "data": {
      "text/plain": [
       "0                  Alabama\n",
       "1                   Alaska\n",
       "2                  Arizona\n",
       "3                 Arkansas\n",
       "4               California\n",
       "5                 Colorado\n",
       "6              Connecticut\n",
       "7                 Delaware\n",
       "8     District of Columbia\n",
       "9                  Florida\n",
       "10                 Georgia\n",
       "11                  Hawaii\n",
       "12                   Idaho\n",
       "13                Illinois\n",
       "14                 Indiana\n",
       "15                    Iowa\n",
       "16                  Kansas\n",
       "17                Kentucky\n",
       "18               Louisiana\n",
       "19                   Maine\n",
       "20                Maryland\n",
       "21           Massachusetts\n",
       "22                Michigan\n",
       "23               Minnesota\n",
       "24             Mississippi\n",
       "25                Missouri\n",
       "26                 Montana\n",
       "27                Nebraska\n",
       "28                  Nevada\n",
       "29           New Hampshire\n",
       "30              New Jersey\n",
       "31              New Mexico\n",
       "32                New York\n",
       "33          North Carolina\n",
       "34            North Dakota\n",
       "35                    Ohio\n",
       "36                Oklahoma\n",
       "37                  Oregon\n",
       "38            Pennsylvania\n",
       "39            Rhode Island\n",
       "40          South Carolina\n",
       "41            South Dakota\n",
       "42               Tennessee\n",
       "43                   Texas\n",
       "44                    Utah\n",
       "45                 Vermont\n",
       "46                Virginia\n",
       "47              Washington\n",
       "48           West Virginia\n",
       "49               Wisconsin\n",
       "50                 Wyoming\n",
       "Name: state, dtype: object"
      ]
     },
     "execution_count": 6,
     "metadata": {},
     "output_type": "execute_result"
    }
   ],
   "source": [
    "summary_stats_df.reset_index(inplace=True)\n",
    "summary_stats_df[\"state\"]"
   ]
  },
  {
   "cell_type": "code",
   "execution_count": 7,
   "metadata": {},
   "outputs": [
    {
     "name": "stdout",
     "output_type": "stream",
     "text": [
      "          state          Cases        Deaths    Anxiety  Depression  \\\n",
      "42    Tennessee  253641.740741   3404.703704  32.896296   27.174074   \n",
      "13     Illinois  443956.703704  10606.518519  32.925926   26.277778   \n",
      "49    Wisconsin  212937.814815   2400.481481  28.148148   22.244444   \n",
      "24  Mississippi  107451.629630   2767.629630  35.481481   31.129630   \n",
      "0       Alabama  173986.925926   3081.555556  32.307407   27.696296   \n",
      "30   New Jersey  311223.296296  15704.000000  33.092593   25.307407   \n",
      "9       Florida  696438.518519  12442.814815  33.870370   27.659259   \n",
      "23    Minnesota  168347.629630   2726.444444  28.148148   20.955556   \n",
      "17     Kentucky  122408.814815   1630.555556  33.988889   28.251852   \n",
      "47   Washington  120976.777778   2326.259259  33.648148   26.448148   \n",
      "\n",
      "    Either Disorder  Both Disorders  \n",
      "42        37.825926       22.244444  \n",
      "13        38.077778       21.125926  \n",
      "49        32.385185       18.007407  \n",
      "24        41.751852       24.859259  \n",
      "0         37.485185       22.518519  \n",
      "30        37.707407       20.692593  \n",
      "9         39.118519       22.411111  \n",
      "23        32.148148       16.955556  \n",
      "17        39.574074       22.666667  \n",
      "47        38.722222       21.374074  \n"
     ]
    },
    {
     "data": {
      "image/png": "[encoded data removed]",
      "text/plain": [
       "<Figure size 432x288 with 1 Axes>"
      ]
     },
     "metadata": {
      "needs_background": "light"
     },
     "output_type": "display_data"
    }
   ],
   "source": [
    "sample_df = summary_stats_df.sample(n=10, random_state=2)\n",
    "print(sample_df)\n",
    "x_axis=summary_stats_df[\"state\"]\n",
    "y_axis=summary_stats_df[\"Cases\"]\n",
    "plt.bar(x_axis,y_axis)\n",
    "plt.tight_layout()\n",
    "plt.title(\"Covid 19: States vs. Cases\")\n",
    "plt.xlabel(\"States\")\n",
    "plt.ylabel(\"Cases\")\n",
    "plt.show()"
   ]
  },
  {
   "cell_type": "code",
   "execution_count": 8,
   "metadata": {},
   "outputs": [
    {
     "name": "stdout",
     "output_type": "stream",
     "text": [
      "          state          Cases        Deaths    Anxiety  Depression  \\\n",
      "42    Tennessee  253641.740741   3404.703704  32.896296   27.174074   \n",
      "13     Illinois  443956.703704  10606.518519  32.925926   26.277778   \n",
      "49    Wisconsin  212937.814815   2400.481481  28.148148   22.244444   \n",
      "24  Mississippi  107451.629630   2767.629630  35.481481   31.129630   \n",
      "0       Alabama  173986.925926   3081.555556  32.307407   27.696296   \n",
      "30   New Jersey  311223.296296  15704.000000  33.092593   25.307407   \n",
      "9       Florida  696438.518519  12442.814815  33.870370   27.659259   \n",
      "23    Minnesota  168347.629630   2726.444444  28.148148   20.955556   \n",
      "17     Kentucky  122408.814815   1630.555556  33.988889   28.251852   \n",
      "47   Washington  120976.777778   2326.259259  33.648148   26.448148   \n",
      "\n",
      "    Either Disorder  Both Disorders  \n",
      "42        37.825926       22.244444  \n",
      "13        38.077778       21.125926  \n",
      "49        32.385185       18.007407  \n",
      "24        41.751852       24.859259  \n",
      "0         37.485185       22.518519  \n",
      "30        37.707407       20.692593  \n",
      "9         39.118519       22.411111  \n",
      "23        32.148148       16.955556  \n",
      "17        39.574074       22.666667  \n",
      "47        38.722222       21.374074  \n"
     ]
    },
    {
     "data": {
      "image/png": "[encoded data removed]",
      "text/plain": [
       "<Figure size 432x288 with 1 Axes>"
      ]
     },
     "metadata": {
      "needs_background": "light"
     },
     "output_type": "display_data"
    }
   ],
   "source": [
    "sample_df = summary_stats_df.sample(n=10, random_state=2)\n",
    "print(sample_df)\n",
    "x_axis=summary_stats_df[\"state\"]\n",
    "y_axis=summary_stats_df[\"Deaths\"]\n",
    "plt.bar(x_axis,y_axis)\n",
    "plt.tight_layout()\n",
    "plt.title(\"Covid 19: States vs. Cases\")\n",
    "plt.xlabel(\"States\")\n",
    "plt.ylabel(\"Deaths\")\n",
    "plt.show()"
   ]
  },
  {
   "cell_type": "code",
   "execution_count": 9,
   "metadata": {},
   "outputs": [
    {
     "data": {
      "image/png": "[encoded data removed]",
      "text/plain": [
       "<Figure size 432x288 with 1 Axes>"
      ]
     },
     "metadata": {
      "needs_background": "light"
     },
     "output_type": "display_data"
    },
    {
     "name": "stdout",
     "output_type": "stream",
     "text": [
      "The r-value is: 0.6600119948260404\n"
     ]
    }
   ],
   "source": [
    "x_axis=summary_stats_df[\"Deaths\"]\n",
    "y_axis=summary_stats_df[\"Cases\"]\n",
    "(slope, intercept, rvalue, pvalue, stderr) = linregress(x_axis, y_axis)\n",
    "regress_values = x_axis * slope + intercept\n",
    "plt.scatter(x_axis,y_axis)\n",
    "plt.plot(x_axis,regress_values,\"r-\")\n",
    "plt.tight_layout()\n",
    "plt.title(\"Covid 19 Cases vs. Deaths\")\n",
    "plt.xlabel(\"Deaths\")\n",
    "plt.ylabel(\"Cases\")\n",
    "plt.show()\n",
    "print(f\"The r-value is: {rvalue**2}\")"
   ]
  },
  {
   "cell_type": "code",
   "execution_count": null,
   "metadata": {},
   "outputs": [],
   "source": [
    "# There is a high correlation in the number of Covid 19 Cases to the number of Deaths. This means that there is a direct\n",
    "# impact to the number of deaths as a result of Covid 19 infection cases.\n",
    "# Based on the data, we can claim that there is a positive correlation between Cases vs. Deaths\n",
    "# Further analysis will help to determine if there is covid impact/affect on anxiety (mental health)."
   ]
  },
  {
   "cell_type": "code",
   "execution_count": 10,
   "metadata": {},
   "outputs": [
    {
     "data": {
      "image/png": "[encoded data removed]",
      "text/plain": [
       "<Figure size 432x288 with 1 Axes>"
      ]
     },
     "metadata": {
      "needs_background": "light"
     },
     "output_type": "display_data"
    },
    {
     "name": "stdout",
     "output_type": "stream",
     "text": [
      "The r-value is: 0.08838834660185807\n"
     ]
    }
   ],
   "source": [
    "x_axis=summary_stats_df[\"Anxiety\"]\n",
    "y_axis=summary_stats_df[\"Cases\"]\n",
    "(slope, intercept, rvalue, pvalue, stderr) = linregress(x_axis, y_axis)\n",
    "regress_values = x_axis * slope + intercept\n",
    "plt.scatter(x_axis,y_axis)\n",
    "plt.plot(x_axis,regress_values,\"r-\")\n",
    "plt.tight_layout()\n",
    "plt.title(\"Covid 19 Cases vs. Anxiety\")\n",
    "plt.xlabel(\"Anxiety Rates\")\n",
    "plt.ylabel(\"Cases\")\n",
    "plt.show()\n",
    "print(f\"The r-value is: {rvalue**2}\")"
   ]
  },
  {
   "cell_type": "code",
   "execution_count": null,
   "metadata": {},
   "outputs": [],
   "source": []
  },
  {
   "cell_type": "code",
   "execution_count": null,
   "metadata": {},
   "outputs": [],
   "source": [
    "# There is correlation between Covid 19 Cases vs. Anxiety (Mental Disorder) but not high as the number of Deaths. This means that there is a direct\n",
    "# impact to Anxiety (Mental Disorder) as a result of Covid 19 infection cases.\n",
    "# Based on the data, we can claim that there is a positive correlation  of Covid 19 Cases vs. Anxiety (Mental Disorder)."
   ]
  },
  {
   "cell_type": "code",
   "execution_count": 17,
   "metadata": {},
   "outputs": [
    {
     "data": {
      "image/png": "[encoded data removed]",
      "text/plain": [
       "<Figure size 432x288 with 1 Axes>"
      ]
     },
     "metadata": {
      "needs_background": "light"
     },
     "output_type": "display_data"
    },
    {
     "name": "stdout",
     "output_type": "stream",
     "text": [
      "The r-value is: 0.09828985333616586\n"
     ]
    }
   ],
   "source": [
    "x_axis=summary_stats_df[\"Depression\"]\n",
    "y_axis=summary_stats_df[\"Cases\"]\n",
    "(slope, intercept, rvalue, pvalue, stderr) = linregress(x_axis, y_axis)\n",
    "regress_values = x_axis * slope + intercept\n",
    "plt.scatter(x_axis,y_axis)\n",
    "plt.plot(x_axis,regress_values,\"r-\")\n",
    "plt.tight_layout()\n",
    "plt.title(\"Covid 19 Cases vs. Depression\")\n",
    "plt.xlabel(\"Depression Rates\")\n",
    "plt.ylabel(\"Cases\")\n",
    "plt.show()\n",
    "print(f\"The r-value is: {rvalue**2}\")"
   ]
  },
  {
   "cell_type": "code",
   "execution_count": 11,
   "metadata": {},
   "outputs": [
    {
     "data": {
      "image/png": "[encoded data removed]",
      "text/plain": [
       "<Figure size 432x288 with 1 Axes>"
      ]
     },
     "metadata": {
      "needs_background": "light"
     },
     "output_type": "display_data"
    },
    {
     "name": "stdout",
     "output_type": "stream",
     "text": [
      "The r-value is: 0.058543384108705694\n"
     ]
    }
   ],
   "source": [
    "x_axis=summary_stats_df[\"Anxiety\"]\n",
    "y_axis=summary_stats_df[\"Deaths\"]\n",
    "(slope, intercept, rvalue, pvalue, stderr) = linregress(x_axis, y_axis)\n",
    "regress_values = x_axis * slope + intercept\n",
    "plt.scatter(x_axis,y_axis)\n",
    "plt.plot(x_axis,regress_values,\"r-\")\n",
    "plt.tight_layout()\n",
    "plt.title(\"Covid 19 Deaths vs. Anxiety\")\n",
    "plt.xlabel(\"Anxiety Rates\")\n",
    "plt.ylabel(\"Deaths\")\n",
    "plt.show()\n",
    "print(f\"The r-value is: {rvalue**2}\")"
   ]
  },
  {
   "cell_type": "code",
   "execution_count": null,
   "metadata": {},
   "outputs": [],
   "source": [
    "# There is correlation between Covid 19 Deaths vs. Anxiety (Mental Disorder) but this is lower than when compared to the number of Cases. \n",
    "# There is an impact/affect to Anxiety (Mental Disorder) as a result of Covid 19 infection deaths.\n",
    "# We can determine that there is positive correlation  of Covid 19 Cases vs. Anxiety (Mental Disorder) based on the data."
   ]
  },
  {
   "cell_type": "code",
   "execution_count": 18,
   "metadata": {},
   "outputs": [
    {
     "data": {
      "image/png": "[encoded data removed]",
      "text/plain": [
       "<Figure size 432x288 with 1 Axes>"
      ]
     },
     "metadata": {
      "needs_background": "light"
     },
     "output_type": "display_data"
    },
    {
     "name": "stdout",
     "output_type": "stream",
     "text": [
      "The r-value is: 0.04093693682134642\n"
     ]
    }
   ],
   "source": [
    "x_axis=summary_stats_df[\"Depression\"]\n",
    "y_axis=summary_stats_df[\"Deaths\"]\n",
    "(slope, intercept, rvalue, pvalue, stderr) = linregress(x_axis, y_axis)\n",
    "regress_values = x_axis * slope + intercept\n",
    "plt.scatter(x_axis,y_axis)\n",
    "plt.plot(x_axis,regress_values,\"r-\")\n",
    "plt.tight_layout()\n",
    "plt.title(\"Covid 19 Cases vs. Depression\")\n",
    "plt.xlabel(\"Depression Rates\")\n",
    "plt.ylabel(\"Deaths\")\n",
    "plt.show()\n",
    "print(f\"The r-value is: {rvalue**2}\")"
   ]
  },
  {
   "cell_type": "code",
   "execution_count": 14,
   "metadata": {},
   "outputs": [
    {
     "name": "stdout",
     "output_type": "stream",
     "text": [
      "Ho:25.63<=18.5\n",
      "H1:25.63>18.5\n",
      "The z-score equals 2.795\n",
      "The significance level equals 0.05\n",
      "The p-value equals 0.003\n",
      "Because the p-value 0.003 is less than the significance level, we have significant evidence to reject the null hypothesis.\n",
      "With this analysis, we can say with 0.95 confidence that depression rates for Americans have been higher during the pandemic.\n"
     ]
    }
   ],
   "source": [
    "#In 2019, the CDC reported that about 18.5 percent of US adults expired symptoms of depression. We are\n",
    "#using 18.5% as our null hypothesis to test whether the there has been a mathmatically significant change \n",
    "#in depression rates during the pandemic.\n",
    "\n",
    "M_new=summary_stats_df['Depression'].mean()\n",
    "M_old=18.5\n",
    "stan_dev=summary_stats_df['Depression'].std()\n",
    "n=summary_stats_df['Depression'].count()\n",
    "\n",
    "print('Ho:' + str(round(M_new,2)) + '<=' + str(M_old))\n",
    "print('H1:' + str(round(M_new,2)) + '>' + str(M_old))\n",
    "\n",
    "significance_level = .05\n",
    "\n",
    "z_score=(M_new-M_old)/(stan_dev)\n",
    "\n",
    "\n",
    "print('The z-score equals '+str(round(z_score,3)))\n",
    "print('The significance level equals '+str(significance_level))\n",
    "p=st.norm.cdf(z_score)\n",
    "print('The p-value equals '+str(round(1-p,3)))\n",
    "print('Because the p-value '+str(round(1-p,3))+ ' is less than the significance level, we have significant evidence to reject the null hypothesis.')\n",
    "print('With this analysis, we can say with '+str(1-significance_level)+' confidence that depression rates for Americans have been higher during the pandemic.')"
   ]
  },
  {
   "cell_type": "code",
   "execution_count": 19,
   "metadata": {},
   "outputs": [
    {
     "data": {
      "text/plain": [
       "array([[<matplotlib.axes._subplots.AxesSubplot object at 0x0000023C60874908>]],\n",
       "      dtype=object)"
      ]
     },
     "execution_count": 19,
     "metadata": {},
     "output_type": "execute_result"
    },
    {
     "data": {
      "image/png": "[encoded data removed]",
      "text/plain": [
       "<Figure size 432x288 with 1 Axes>"
      ]
     },
     "metadata": {
      "needs_background": "light"
     },
     "output_type": "display_data"
    }
   ],
   "source": [
    "summary_stats_df.hist(column='Depression')\n"
   ]
  },
  {
   "cell_type": "code",
   "execution_count": null,
   "metadata": {},
   "outputs": [],
   "source": []
  }
 ],
 "metadata": {
  "kernelspec": {
   "display_name": "PythonData",
   "language": "python",
   "name": "pythondata"
  },
  "language_info": {
   "codemirror_mode": {
    "name": "ipython",
    "version": 3
   },
   "file_extension": ".py",
   "mimetype": "text/x-python",
   "name": "python",
   "nbconvert_exporter": "python",
   "pygments_lexer": "ipython3",
   "version": "3.6.10"
  }
 },
 "nbformat": 4,
 "nbformat_minor": 4
}
